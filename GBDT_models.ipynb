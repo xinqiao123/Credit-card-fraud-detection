{
 "cells": [
  {
   "cell_type": "code",
   "execution_count": 1,
   "metadata": {},
   "outputs": [],
   "source": [
    "import pandas as pd \n",
    "import numpy as np \n",
    "\n",
    "path = './data/ieee_cis_transaction_data.csv'\n",
    "df = pd.read_csv(path, index_col='TransactionID')\n",
    "label = 'isFraud'\n",
    "X = df.iloc[:,:-1].to_numpy()\n",
    "y = df[label].to_numpy()"
   ]
  },
  {
   "cell_type": "code",
   "execution_count": 2,
   "metadata": {},
   "outputs": [],
   "source": [
    "import xgboost as xgb\n",
    "import catboost as cat\n",
    "import lightgbm as lgb\n",
    "from sklearn.metrics import roc_auc_score\n",
    "\n",
    "\n",
    "X_train, X_test = X[:3*X.shape[0]//4], X[3*X.shape[0]//4:]\n",
    "y_train, y_test = y[:3*X.shape[0]//4], y[3*X.shape[0]//4:]\n"
   ]
  },
  {
   "cell_type": "code",
   "execution_count": null,
   "metadata": {},
   "outputs": [],
   "source": [
    "AUC = []\n",
    "for i in range(10):\n",
    "    clf = xgb.XGBClassifier( \n",
    "            n_estimators=2000,\n",
    "            max_depth=12, \n",
    "            learning_rate=0.02,  \n",
    "            subsample=0.8,\n",
    "            colsample_bytree=0.4, \n",
    "            missing=-1, \n",
    "            eval_metric='auc',\n",
    "            seed = i,\n",
    "            # USE GPU\n",
    "            tree_method='gpu_hist' )\n",
    "    print()\n",
    "    print('%sth runs of XGBoost:'% (i+1))       \n",
    "    history = clf.fit(X_train, y_train, \n",
    "            eval_set=[(X_test,y_test)],\n",
    "            verbose=50, early_stopping_rounds=100)\n",
    "\n",
    "    y_probs = clf.predict_proba(X_test)[:,1]\n",
    "    \n",
    "    auc = roc_auc_score(y_test,y_probs)\n",
    "    AUC.append(auc)\n",
    "    print ('AUC:', auc)\n",
    "\n",
    "print('AUC mean ± dev of 10 runs:',np.mean(AUC),'±', np.std(AUC))"
   ]
  },
  {
   "cell_type": "code",
   "execution_count": 3,
   "metadata": {},
   "outputs": [
    {
     "name": "stdout",
     "output_type": "stream",
     "text": [
      "\n",
      "1th runs of XGBoost:\n"
     ]
    },
    {
     "name": "stderr",
     "output_type": "stream",
     "text": [
      "d:\\Software\\Anaconda3\\envs\\tabformer\\lib\\site-packages\\xgboost\\sklearn.py:861: UserWarning: `early_stopping_rounds` in `fit` method is deprecated for better compatibility with scikit-learn, use `early_stopping_rounds` in constructor or`set_params` instead.\n",
      "  warnings.warn(\n"
     ]
    },
    {
     "name": "stdout",
     "output_type": "stream",
     "text": [
      "[0]\tvalidation_0-auc:0.80042\n",
      "[50]\tvalidation_0-auc:0.87490\n",
      "[100]\tvalidation_0-auc:0.89013\n",
      "[150]\tvalidation_0-auc:0.90566\n",
      "[200]\tvalidation_0-auc:0.91826\n",
      "[250]\tvalidation_0-auc:0.92582\n",
      "[300]\tvalidation_0-auc:0.93040\n",
      "[350]\tvalidation_0-auc:0.93330\n",
      "[400]\tvalidation_0-auc:0.93457\n",
      "[450]\tvalidation_0-auc:0.93517\n",
      "[500]\tvalidation_0-auc:0.93564\n",
      "[550]\tvalidation_0-auc:0.93568\n",
      "[593]\tvalidation_0-auc:0.93552\n",
      "AUC: 0.9357358433463538\n",
      "AUC mean ± dev of 10 runs: 0.9357358433463538 ± 0.0\n"
     ]
    }
   ],
   "source": [
    "AUC = []\n",
    "for i in range(1):\n",
    "    clf = xgb.XGBClassifier( \n",
    "            n_estimators=2000,\n",
    "            max_depth=12, \n",
    "            learning_rate=0.02,  \n",
    "            subsample=0.8,\n",
    "            colsample_bytree=0.4, \n",
    "            missing=-1, \n",
    "            eval_metric='auc',\n",
    "            seed = i,\n",
    "            # USE GPU\n",
    "            tree_method='gpu_hist' )\n",
    "    print()\n",
    "    print('%sth runs of XGBoost:'% (i+1))       \n",
    "    history = clf.fit(X_train, y_train, \n",
    "            eval_set=[(X_test,y_test)],\n",
    "            verbose=50, early_stopping_rounds=100)\n",
    "\n",
    "    y_probs = clf.predict_proba(X_test)[:,1]\n",
    "    \n",
    "    auc = roc_auc_score(y_test,y_probs)\n",
    "    AUC.append(auc)\n",
    "    print ('AUC:', auc)\n",
    "\n",
    "print('AUC mean ± dev of 10 runs:',np.mean(AUC),'±', np.std(AUC))"
   ]
  },
  {
   "cell_type": "code",
   "execution_count": 5,
   "metadata": {},
   "outputs": [
    {
     "name": "stdout",
     "output_type": "stream",
     "text": [
      "[[9.9563640e-01 4.3636248e-03]\n",
      " [9.9905270e-01 9.4728410e-04]\n",
      " [9.9915332e-01 8.4669876e-04]\n",
      " ...\n",
      " [9.9677014e-01 3.2298337e-03]\n",
      " [9.6012211e-01 3.9877884e-02]\n",
      " [9.9315536e-01 6.8446137e-03]]\n"
     ]
    }
   ],
   "source": [
    "from sklearn.metrics import auc, precision_recall_curve, roc_curve, roc_auc_score\n",
    "\n",
    "\n",
    "prob = clf.predict_proba(X_test)\n",
    "print(prob)\n"
   ]
  },
  {
   "cell_type": "code",
   "execution_count": 14,
   "metadata": {},
   "outputs": [
    {
     "name": "stdout",
     "output_type": "stream",
     "text": [
      "(145137,) (145137,)\n",
      "auprc 0.6095275975981946\n",
      "0.9357358433463538\n",
      "0.9357358433463538\n"
     ]
    }
   ],
   "source": [
    "precision, recall, _ = precision_recall_curve(y_test, prob[:,1])\n",
    "print(precision.shape, recall.shape)\n",
    "print('auprc', auc(recall, precision))\n",
    "fp, tp, _ = roc_curve(y_test, prob[:,1])\n",
    "print(auc(fp, tp))\n",
    "print(roc_auc_score(y_test, prob[:,1]))"
   ]
  },
  {
   "cell_type": "code",
   "execution_count": 16,
   "metadata": {},
   "outputs": [
    {
     "data": {
      "text/plain": [
       "[<matplotlib.lines.Line2D at 0x2259a79dfd0>]"
      ]
     },
     "execution_count": 16,
     "metadata": {},
     "output_type": "execute_result"
    },
    {
     "data": {
      "image/png": "[encoded data removed]",
      "text/plain": [
       "<Figure size 640x480 with 1 Axes>"
      ]
     },
     "metadata": {},
     "output_type": "display_data"
    }
   ],
   "source": [
    "import matplotlib.pyplot as plt \n",
    "\n",
    "plt.plot(recall, precision)"
   ]
  },
  {
   "cell_type": "code",
   "execution_count": 17,
   "metadata": {},
   "outputs": [
    {
     "data": {
      "text/plain": [
       "[<matplotlib.lines.Line2D at 0x2259a8214c0>]"
      ]
     },
     "execution_count": 17,
     "metadata": {},
     "output_type": "execute_result"
    },
    {
     "data": {
      "image/png": "[encoded data removed]",
      "text/plain": [
       "<Figure size 640x480 with 1 Axes>"
      ]
     },
     "metadata": {},
     "output_type": "display_data"
    }
   ],
   "source": [
    "plt.plot(fp, tp)"
   ]
  },
  {
   "cell_type": "code",
   "execution_count": 30,
   "metadata": {},
   "outputs": [
    {
     "name": "stdout",
     "output_type": "stream",
     "text": [
      "1th runs of CatBoost:\n"
     ]
    },
    {
     "name": "stderr",
     "output_type": "stream",
     "text": [
      "Default metric period is 5 because AUC is/are not implemented for GPU\n"
     ]
    },
    {
     "name": "stdout",
     "output_type": "stream",
     "text": [
      "0:\ttest: 0.7325406\tbest: 0.7325406 (0)\ttotal: 101ms\tremaining: 3m 21s\n",
      "50:\ttest: 0.8591791\tbest: 0.8591791 (50)\ttotal: 3.96s\tremaining: 2m 31s\n",
      "100:\ttest: 0.8771370\tbest: 0.8771370 (100)\ttotal: 7.98s\tremaining: 2m 29s\n",
      "150:\ttest: 0.8866958\tbest: 0.8866958 (150)\ttotal: 12s\tremaining: 2m 27s\n",
      "200:\ttest: 0.8923355\tbest: 0.8923355 (200)\ttotal: 16s\tremaining: 2m 23s\n",
      "250:\ttest: 0.8974253\tbest: 0.8974253 (250)\ttotal: 20s\tremaining: 2m 19s\n",
      "300:\ttest: 0.9017337\tbest: 0.9017337 (300)\ttotal: 24s\tremaining: 2m 15s\n",
      "350:\ttest: 0.9059599\tbest: 0.9059599 (350)\ttotal: 28.1s\tremaining: 2m 11s\n",
      "400:\ttest: 0.9087914\tbest: 0.9087914 (400)\ttotal: 32.1s\tremaining: 2m 7s\n",
      "450:\ttest: 0.9118241\tbest: 0.9118241 (450)\ttotal: 36.2s\tremaining: 2m 4s\n",
      "500:\ttest: 0.9136303\tbest: 0.9136303 (500)\ttotal: 40.1s\tremaining: 2m\n",
      "550:\ttest: 0.9154741\tbest: 0.9154741 (550)\ttotal: 44.1s\tremaining: 1m 56s\n",
      "600:\ttest: 0.9167871\tbest: 0.9167871 (600)\ttotal: 48.1s\tremaining: 1m 52s\n",
      "650:\ttest: 0.9186094\tbest: 0.9186094 (650)\ttotal: 52.1s\tremaining: 1m 48s\n",
      "700:\ttest: 0.9197038\tbest: 0.9197038 (700)\ttotal: 56.2s\tremaining: 1m 44s\n",
      "750:\ttest: 0.9209443\tbest: 0.9209443 (750)\ttotal: 1m\tremaining: 1m 40s\n",
      "800:\ttest: 0.9220385\tbest: 0.9220500 (798)\ttotal: 1m 4s\tremaining: 1m 36s\n",
      "850:\ttest: 0.9235008\tbest: 0.9235008 (850)\ttotal: 1m 8s\tremaining: 1m 31s\n",
      "900:\ttest: 0.9242893\tbest: 0.9243176 (896)\ttotal: 1m 12s\tremaining: 1m 27s\n",
      "950:\ttest: 0.9249690\tbest: 0.9249690 (950)\ttotal: 1m 16s\tremaining: 1m 23s\n",
      "1000:\ttest: 0.9255420\tbest: 0.9255420 (1000)\ttotal: 1m 19s\tremaining: 1m 19s\n",
      "1050:\ttest: 0.9262578\tbest: 0.9262588 (1049)\ttotal: 1m 23s\tremaining: 1m 15s\n",
      "1100:\ttest: 0.9267576\tbest: 0.9267576 (1100)\ttotal: 1m 27s\tremaining: 1m 11s\n",
      "1150:\ttest: 0.9272105\tbest: 0.9272105 (1150)\ttotal: 1m 31s\tremaining: 1m 7s\n",
      "1200:\ttest: 0.9277660\tbest: 0.9277660 (1200)\ttotal: 1m 35s\tremaining: 1m 3s\n",
      "1250:\ttest: 0.9280129\tbest: 0.9280297 (1240)\ttotal: 1m 39s\tremaining: 59.8s\n",
      "1300:\ttest: 0.9282658\tbest: 0.9283448 (1289)\ttotal: 1m 43s\tremaining: 55.8s\n",
      "1350:\ttest: 0.9286026\tbest: 0.9286333 (1347)\ttotal: 1m 47s\tremaining: 51.8s\n",
      "1400:\ttest: 0.9288352\tbest: 0.9288352 (1400)\ttotal: 1m 51s\tremaining: 47.8s\n",
      "1450:\ttest: 0.9287896\tbest: 0.9288355 (1422)\ttotal: 1m 55s\tremaining: 43.8s\n",
      "1500:\ttest: 0.9291279\tbest: 0.9291279 (1500)\ttotal: 1m 59s\tremaining: 39.8s\n",
      "1550:\ttest: 0.9292111\tbest: 0.9293418 (1537)\ttotal: 2m 3s\tremaining: 35.9s\n",
      "1600:\ttest: 0.9293257\tbest: 0.9293418 (1537)\ttotal: 2m 7s\tremaining: 31.9s\n",
      "1650:\ttest: 0.9295599\tbest: 0.9295732 (1649)\ttotal: 2m 12s\tremaining: 27.9s\n",
      "1700:\ttest: 0.9295946\tbest: 0.9296225 (1681)\ttotal: 2m 15s\tremaining: 23.9s\n",
      "1750:\ttest: 0.9298912\tbest: 0.9298912 (1750)\ttotal: 2m 19s\tremaining: 19.9s\n",
      "1800:\ttest: 0.9301161\tbest: 0.9301161 (1800)\ttotal: 2m 23s\tremaining: 15.9s\n",
      "1850:\ttest: 0.9300856\tbest: 0.9301893 (1806)\ttotal: 2m 27s\tremaining: 11.9s\n",
      "1900:\ttest: 0.9299445\tbest: 0.9301893 (1806)\ttotal: 2m 31s\tremaining: 7.91s\n",
      "bestTest = 0.9301893115\n",
      "bestIteration = 1806\n",
      "Shrink model to first 1807 iterations.\n",
      "AUC: 0.9301892538262017\n",
      "2th runs of CatBoost:\n"
     ]
    },
    {
     "name": "stderr",
     "output_type": "stream",
     "text": [
      "Default metric period is 5 because AUC is/are not implemented for GPU\n"
     ]
    },
    {
     "name": "stdout",
     "output_type": "stream",
     "text": [
      "0:\ttest: 0.8039574\tbest: 0.8039574 (0)\ttotal: 98.8ms\tremaining: 3m 17s\n",
      "50:\ttest: 0.8623767\tbest: 0.8623767 (50)\ttotal: 3.95s\tremaining: 2m 30s\n",
      "100:\ttest: 0.8780962\tbest: 0.8780962 (100)\ttotal: 8s\tremaining: 2m 30s\n",
      "150:\ttest: 0.8871562\tbest: 0.8871562 (150)\ttotal: 12.1s\tremaining: 2m 27s\n",
      "200:\ttest: 0.8942344\tbest: 0.8942344 (200)\ttotal: 16.1s\tremaining: 2m 24s\n",
      "250:\ttest: 0.8994272\tbest: 0.8994272 (250)\ttotal: 20.1s\tremaining: 2m 19s\n",
      "300:\ttest: 0.9031436\tbest: 0.9031436 (300)\ttotal: 24.2s\tremaining: 2m 16s\n",
      "350:\ttest: 0.9069928\tbest: 0.9069928 (350)\ttotal: 28.2s\tremaining: 2m 12s\n",
      "400:\ttest: 0.9099538\tbest: 0.9099538 (400)\ttotal: 32.3s\tremaining: 2m 8s\n",
      "450:\ttest: 0.9127720\tbest: 0.9127720 (450)\ttotal: 36.3s\tremaining: 2m 4s\n",
      "500:\ttest: 0.9149951\tbest: 0.9149951 (500)\ttotal: 40.3s\tremaining: 2m\n",
      "550:\ttest: 0.9173722\tbest: 0.9173722 (550)\ttotal: 44.3s\tremaining: 1m 56s\n",
      "600:\ttest: 0.9192998\tbest: 0.9192998 (600)\ttotal: 48.3s\tremaining: 1m 52s\n",
      "650:\ttest: 0.9202846\tbest: 0.9202917 (649)\ttotal: 52.3s\tremaining: 1m 48s\n",
      "700:\ttest: 0.9215545\tbest: 0.9215545 (700)\ttotal: 56.3s\tremaining: 1m 44s\n",
      "750:\ttest: 0.9230279\tbest: 0.9230279 (750)\ttotal: 1m\tremaining: 1m 40s\n",
      "800:\ttest: 0.9238807\tbest: 0.9238807 (800)\ttotal: 1m 4s\tremaining: 1m 36s\n",
      "850:\ttest: 0.9246966\tbest: 0.9246966 (850)\ttotal: 1m 8s\tremaining: 1m 32s\n",
      "900:\ttest: 0.9254228\tbest: 0.9254228 (900)\ttotal: 1m 12s\tremaining: 1m 28s\n",
      "950:\ttest: 0.9260374\tbest: 0.9260645 (947)\ttotal: 1m 16s\tremaining: 1m 24s\n",
      "1000:\ttest: 0.9267259\tbest: 0.9267429 (998)\ttotal: 1m 20s\tremaining: 1m 19s\n",
      "1050:\ttest: 0.9273395\tbest: 0.9273395 (1050)\ttotal: 1m 24s\tremaining: 1m 16s\n",
      "1100:\ttest: 0.9278498\tbest: 0.9278498 (1100)\ttotal: 1m 28s\tremaining: 1m 11s\n",
      "1150:\ttest: 0.9282685\tbest: 0.9282685 (1150)\ttotal: 1m 32s\tremaining: 1m 7s\n",
      "1200:\ttest: 0.9285620\tbest: 0.9285620 (1200)\ttotal: 1m 36s\tremaining: 1m 3s\n",
      "1250:\ttest: 0.9289919\tbest: 0.9289920 (1249)\ttotal: 1m 40s\tremaining: 59.9s\n",
      "1300:\ttest: 0.9292611\tbest: 0.9292611 (1300)\ttotal: 1m 43s\tremaining: 55.9s\n",
      "1350:\ttest: 0.9293874\tbest: 0.9293888 (1349)\ttotal: 1m 47s\tremaining: 51.8s\n",
      "1400:\ttest: 0.9298258\tbest: 0.9298513 (1397)\ttotal: 1m 51s\tremaining: 47.9s\n",
      "1450:\ttest: 0.9298895\tbest: 0.9298895 (1450)\ttotal: 1m 55s\tremaining: 43.9s\n",
      "1500:\ttest: 0.9300875\tbest: 0.9301061 (1490)\ttotal: 1m 59s\tremaining: 39.9s\n",
      "1550:\ttest: 0.9301872\tbest: 0.9301956 (1548)\ttotal: 2m 3s\tremaining: 35.8s\n",
      "1600:\ttest: 0.9304027\tbest: 0.9304178 (1592)\ttotal: 2m 7s\tremaining: 31.9s\n",
      "1650:\ttest: 0.9304471\tbest: 0.9305139 (1631)\ttotal: 2m 11s\tremaining: 27.9s\n",
      "1700:\ttest: 0.9307262\tbest: 0.9307262 (1700)\ttotal: 2m 15s\tremaining: 23.9s\n",
      "1750:\ttest: 0.9307103\tbest: 0.9307837 (1736)\ttotal: 2m 19s\tremaining: 19.9s\n",
      "1800:\ttest: 0.9306777\tbest: 0.9307837 (1736)\ttotal: 2m 23s\tremaining: 15.9s\n",
      "bestTest = 0.9307837486\n",
      "bestIteration = 1736\n",
      "Shrink model to first 1737 iterations.\n",
      "AUC: 0.930783702936396\n",
      "3th runs of CatBoost:\n"
     ]
    },
    {
     "name": "stderr",
     "output_type": "stream",
     "text": [
      "Default metric period is 5 because AUC is/are not implemented for GPU\n"
     ]
    },
    {
     "name": "stdout",
     "output_type": "stream",
     "text": [
      "0:\ttest: 0.8078220\tbest: 0.8078220 (0)\ttotal: 97.2ms\tremaining: 3m 14s\n",
      "50:\ttest: 0.8588669\tbest: 0.8588669 (50)\ttotal: 3.98s\tremaining: 2m 32s\n",
      "100:\ttest: 0.8761079\tbest: 0.8761079 (100)\ttotal: 8.02s\tremaining: 2m 30s\n",
      "150:\ttest: 0.8854425\tbest: 0.8854425 (150)\ttotal: 12s\tremaining: 2m 27s\n",
      "200:\ttest: 0.8921844\tbest: 0.8922050 (198)\ttotal: 16.1s\tremaining: 2m 23s\n",
      "250:\ttest: 0.8978866\tbest: 0.8978866 (250)\ttotal: 20.1s\tremaining: 2m 20s\n",
      "300:\ttest: 0.9022821\tbest: 0.9022821 (300)\ttotal: 24.2s\tremaining: 2m 16s\n",
      "350:\ttest: 0.9060194\tbest: 0.9060194 (350)\ttotal: 28.3s\tremaining: 2m 12s\n",
      "400:\ttest: 0.9094468\tbest: 0.9094468 (400)\ttotal: 32.4s\tremaining: 2m 9s\n",
      "450:\ttest: 0.9129262\tbest: 0.9129262 (450)\ttotal: 36.7s\tremaining: 2m 5s\n",
      "500:\ttest: 0.9148808\tbest: 0.9148808 (500)\ttotal: 40.6s\tremaining: 2m 1s\n",
      "550:\ttest: 0.9171600\tbest: 0.9171600 (550)\ttotal: 44.6s\tremaining: 1m 57s\n",
      "600:\ttest: 0.9185937\tbest: 0.9185937 (600)\ttotal: 48.7s\tremaining: 1m 53s\n",
      "650:\ttest: 0.9200083\tbest: 0.9200194 (649)\ttotal: 52.7s\tremaining: 1m 49s\n",
      "700:\ttest: 0.9211767\tbest: 0.9211767 (700)\ttotal: 56.7s\tremaining: 1m 45s\n",
      "750:\ttest: 0.9223677\tbest: 0.9223677 (750)\ttotal: 1m\tremaining: 1m 41s\n",
      "800:\ttest: 0.9231295\tbest: 0.9231443 (799)\ttotal: 1m 4s\tremaining: 1m 36s\n",
      "850:\ttest: 0.9243026\tbest: 0.9243026 (850)\ttotal: 1m 8s\tremaining: 1m 32s\n",
      "900:\ttest: 0.9254026\tbest: 0.9254050 (899)\ttotal: 1m 12s\tremaining: 1m 28s\n",
      "950:\ttest: 0.9261467\tbest: 0.9261756 (948)\ttotal: 1m 16s\tremaining: 1m 24s\n",
      "1000:\ttest: 0.9267927\tbest: 0.9267927 (1000)\ttotal: 1m 20s\tremaining: 1m 20s\n",
      "1050:\ttest: 0.9273081\tbest: 0.9273205 (1049)\ttotal: 1m 24s\tremaining: 1m 16s\n",
      "1100:\ttest: 0.9279428\tbest: 0.9279428 (1100)\ttotal: 1m 28s\tremaining: 1m 12s\n",
      "1150:\ttest: 0.9286047\tbest: 0.9286047 (1150)\ttotal: 1m 32s\tremaining: 1m 8s\n",
      "1200:\ttest: 0.9289967\tbest: 0.9289967 (1200)\ttotal: 1m 36s\tremaining: 1m 4s\n",
      "1250:\ttest: 0.9292414\tbest: 0.9292414 (1250)\ttotal: 1m 40s\tremaining: 1m\n",
      "1300:\ttest: 0.9294466\tbest: 0.9294829 (1298)\ttotal: 1m 44s\tremaining: 56.4s\n",
      "1350:\ttest: 0.9299462\tbest: 0.9299462 (1350)\ttotal: 1m 48s\tremaining: 52.3s\n",
      "1400:\ttest: 0.9297771\tbest: 0.9299462 (1350)\ttotal: 1m 52s\tremaining: 48.3s\n",
      "1450:\ttest: 0.9298786\tbest: 0.9299462 (1350)\ttotal: 1m 56s\tremaining: 44.3s\n",
      "bestTest = 0.9299461842\n",
      "bestIteration = 1350\n",
      "Shrink model to first 1351 iterations.\n",
      "AUC: 0.9299463262205292\n",
      "4th runs of CatBoost:\n"
     ]
    },
    {
     "name": "stderr",
     "output_type": "stream",
     "text": [
      "Default metric period is 5 because AUC is/are not implemented for GPU\n"
     ]
    },
    {
     "name": "stdout",
     "output_type": "stream",
     "text": [
      "0:\ttest: 0.7965609\tbest: 0.7965609 (0)\ttotal: 98.3ms\tremaining: 3m 16s\n",
      "50:\ttest: 0.8603353\tbest: 0.8603353 (50)\ttotal: 4.02s\tremaining: 2m 33s\n",
      "100:\ttest: 0.8773237\tbest: 0.8773237 (100)\ttotal: 8.12s\tremaining: 2m 32s\n",
      "150:\ttest: 0.8867584\tbest: 0.8867584 (150)\ttotal: 12.3s\tremaining: 2m 30s\n",
      "200:\ttest: 0.8926086\tbest: 0.8926086 (200)\ttotal: 16.3s\tremaining: 2m 25s\n",
      "250:\ttest: 0.8984506\tbest: 0.8984506 (250)\ttotal: 20.5s\tremaining: 2m 22s\n",
      "300:\ttest: 0.9028367\tbest: 0.9028367 (300)\ttotal: 24.5s\tremaining: 2m 18s\n",
      "350:\ttest: 0.9068090\tbest: 0.9068090 (350)\ttotal: 28.6s\tremaining: 2m 14s\n",
      "400:\ttest: 0.9097460\tbest: 0.9097460 (400)\ttotal: 32.6s\tremaining: 2m 10s\n",
      "450:\ttest: 0.9124134\tbest: 0.9124134 (450)\ttotal: 36.6s\tremaining: 2m 5s\n",
      "500:\ttest: 0.9155374\tbest: 0.9155374 (500)\ttotal: 40.6s\tremaining: 2m 1s\n",
      "550:\ttest: 0.9173030\tbest: 0.9173030 (550)\ttotal: 44.7s\tremaining: 1m 57s\n",
      "600:\ttest: 0.9188576\tbest: 0.9188576 (600)\ttotal: 48.7s\tremaining: 1m 53s\n",
      "650:\ttest: 0.9199621\tbest: 0.9199621 (650)\ttotal: 52.7s\tremaining: 1m 49s\n",
      "700:\ttest: 0.9213585\tbest: 0.9213774 (699)\ttotal: 56.8s\tremaining: 1m 45s\n",
      "750:\ttest: 0.9225360\tbest: 0.9225360 (750)\ttotal: 1m\tremaining: 1m 41s\n",
      "800:\ttest: 0.9233822\tbest: 0.9233822 (800)\ttotal: 1m 4s\tremaining: 1m 37s\n",
      "850:\ttest: 0.9242795\tbest: 0.9242795 (850)\ttotal: 1m 8s\tremaining: 1m 32s\n",
      "900:\ttest: 0.9252272\tbest: 0.9252272 (900)\ttotal: 1m 12s\tremaining: 1m 28s\n",
      "950:\ttest: 0.9260317\tbest: 0.9260332 (947)\ttotal: 1m 16s\tremaining: 1m 24s\n",
      "1000:\ttest: 0.9266516\tbest: 0.9266516 (1000)\ttotal: 1m 20s\tremaining: 1m 20s\n",
      "1050:\ttest: 0.9270850\tbest: 0.9270850 (1050)\ttotal: 1m 24s\tremaining: 1m 16s\n",
      "1100:\ttest: 0.9271420\tbest: 0.9271601 (1099)\ttotal: 1m 28s\tremaining: 1m 12s\n",
      "1150:\ttest: 0.9276402\tbest: 0.9276789 (1143)\ttotal: 1m 32s\tremaining: 1m 8s\n",
      "1200:\ttest: 0.9281495\tbest: 0.9281583 (1195)\ttotal: 1m 36s\tremaining: 1m 4s\n",
      "1250:\ttest: 0.9283348\tbest: 0.9283451 (1246)\ttotal: 1m 40s\tremaining: 1m\n",
      "1300:\ttest: 0.9285866\tbest: 0.9286022 (1299)\ttotal: 1m 44s\tremaining: 56.3s\n",
      "1350:\ttest: 0.9289286\tbest: 0.9289286 (1350)\ttotal: 1m 48s\tremaining: 52.3s\n",
      "1400:\ttest: 0.9291316\tbest: 0.9291395 (1389)\ttotal: 1m 52s\tremaining: 48.2s\n",
      "1450:\ttest: 0.9293257\tbest: 0.9293257 (1450)\ttotal: 1m 56s\tremaining: 44.2s\n",
      "1500:\ttest: 0.9292588\tbest: 0.9293831 (1453)\ttotal: 2m\tremaining: 40.2s\n",
      "1550:\ttest: 0.9292835\tbest: 0.9293831 (1453)\ttotal: 2m 5s\tremaining: 36.2s\n",
      "bestTest = 0.9293830991\n",
      "bestIteration = 1453\n",
      "Shrink model to first 1454 iterations.\n",
      "AUC: 0.9293830920097368\n",
      "5th runs of CatBoost:\n"
     ]
    },
    {
     "name": "stderr",
     "output_type": "stream",
     "text": [
      "Default metric period is 5 because AUC is/are not implemented for GPU\n"
     ]
    },
    {
     "name": "stdout",
     "output_type": "stream",
     "text": [
      "0:\ttest: 0.8135471\tbest: 0.8135471 (0)\ttotal: 99.8ms\tremaining: 3m 19s\n",
      "50:\ttest: 0.8625166\tbest: 0.8625166 (50)\ttotal: 4.01s\tremaining: 2m 33s\n",
      "100:\ttest: 0.8772822\tbest: 0.8772822 (100)\ttotal: 8.09s\tremaining: 2m 32s\n",
      "150:\ttest: 0.8886824\tbest: 0.8886824 (150)\ttotal: 12.2s\tremaining: 2m 29s\n",
      "200:\ttest: 0.8934292\tbest: 0.8934292 (200)\ttotal: 16.3s\tremaining: 2m 25s\n",
      "250:\ttest: 0.8981735\tbest: 0.8981735 (250)\ttotal: 20.4s\tremaining: 2m 21s\n",
      "300:\ttest: 0.9022793\tbest: 0.9022793 (300)\ttotal: 24.4s\tremaining: 2m 17s\n",
      "350:\ttest: 0.9056081\tbest: 0.9056081 (350)\ttotal: 28.5s\tremaining: 2m 13s\n",
      "400:\ttest: 0.9094670\tbest: 0.9094670 (400)\ttotal: 32.6s\tremaining: 2m 9s\n",
      "450:\ttest: 0.9119232\tbest: 0.9119232 (450)\ttotal: 36.6s\tremaining: 2m 5s\n",
      "500:\ttest: 0.9141004\tbest: 0.9141004 (500)\ttotal: 40.7s\tremaining: 2m 1s\n",
      "550:\ttest: 0.9158119\tbest: 0.9158198 (548)\ttotal: 44.8s\tremaining: 1m 57s\n",
      "600:\ttest: 0.9179765\tbest: 0.9179765 (600)\ttotal: 48.8s\tremaining: 1m 53s\n",
      "650:\ttest: 0.9194154\tbest: 0.9194154 (650)\ttotal: 52.8s\tremaining: 1m 49s\n",
      "700:\ttest: 0.9210008\tbest: 0.9210008 (700)\ttotal: 56.8s\tremaining: 1m 45s\n",
      "750:\ttest: 0.9222105\tbest: 0.9222105 (750)\ttotal: 1m\tremaining: 1m 41s\n",
      "800:\ttest: 0.9233043\tbest: 0.9233043 (800)\ttotal: 1m 4s\tremaining: 1m 37s\n",
      "850:\ttest: 0.9243175\tbest: 0.9243175 (850)\ttotal: 1m 8s\tremaining: 1m 33s\n",
      "900:\ttest: 0.9253368\tbest: 0.9253473 (897)\ttotal: 1m 12s\tremaining: 1m 29s\n",
      "950:\ttest: 0.9261770\tbest: 0.9261932 (949)\ttotal: 1m 16s\tremaining: 1m 24s\n",
      "1000:\ttest: 0.9265580\tbest: 0.9266213 (994)\ttotal: 1m 20s\tremaining: 1m 20s\n",
      "1050:\ttest: 0.9269621\tbest: 0.9269621 (1050)\ttotal: 1m 24s\tremaining: 1m 16s\n",
      "1100:\ttest: 0.9275801\tbest: 0.9275801 (1100)\ttotal: 1m 29s\tremaining: 1m 12s\n",
      "1150:\ttest: 0.9281101\tbest: 0.9281197 (1149)\ttotal: 1m 33s\tremaining: 1m 8s\n",
      "1200:\ttest: 0.9285002\tbest: 0.9285291 (1199)\ttotal: 1m 37s\tremaining: 1m 4s\n",
      "1250:\ttest: 0.9287115\tbest: 0.9287115 (1250)\ttotal: 1m 41s\tremaining: 1m\n",
      "1300:\ttest: 0.9286754\tbest: 0.9288217 (1267)\ttotal: 1m 45s\tremaining: 56.5s\n",
      "1350:\ttest: 0.9290971\tbest: 0.9291187 (1347)\ttotal: 1m 49s\tremaining: 52.5s\n",
      "1400:\ttest: 0.9293777\tbest: 0.9294268 (1394)\ttotal: 1m 53s\tremaining: 48.4s\n",
      "1450:\ttest: 0.9294007\tbest: 0.9294448 (1446)\ttotal: 1m 57s\tremaining: 44.3s\n",
      "1500:\ttest: 0.9295462\tbest: 0.9295740 (1497)\ttotal: 2m 1s\tremaining: 40.3s\n",
      "1550:\ttest: 0.9297813\tbest: 0.9298037 (1533)\ttotal: 2m 5s\tremaining: 36.3s\n",
      "1600:\ttest: 0.9300685\tbest: 0.9300685 (1600)\ttotal: 2m 9s\tremaining: 32.2s\n",
      "1650:\ttest: 0.9302414\tbest: 0.9302414 (1650)\ttotal: 2m 13s\tremaining: 28.2s\n",
      "1700:\ttest: 0.9303652\tbest: 0.9303652 (1700)\ttotal: 2m 17s\tremaining: 24.1s\n",
      "1750:\ttest: 0.9305471\tbest: 0.9305621 (1744)\ttotal: 2m 21s\tremaining: 20.1s\n",
      "1800:\ttest: 0.9306986\tbest: 0.9307105 (1779)\ttotal: 2m 25s\tremaining: 16.1s\n",
      "1850:\ttest: 0.9308417\tbest: 0.9308417 (1850)\ttotal: 2m 29s\tremaining: 12s\n",
      "1900:\ttest: 0.9309475\tbest: 0.9309641 (1897)\ttotal: 2m 33s\tremaining: 7.99s\n",
      "1950:\ttest: 0.9311514\tbest: 0.9311665 (1946)\ttotal: 2m 37s\tremaining: 3.96s\n",
      "1999:\ttest: 0.9311063\tbest: 0.9312168 (1960)\ttotal: 2m 41s\tremaining: 0us\n",
      "bestTest = 0.931216836\n",
      "bestIteration = 1960\n",
      "Shrink model to first 1961 iterations.\n",
      "AUC: 0.9312168638318625\n",
      "6th runs of CatBoost:\n"
     ]
    },
    {
     "name": "stderr",
     "output_type": "stream",
     "text": [
      "Default metric period is 5 because AUC is/are not implemented for GPU\n"
     ]
    },
    {
     "name": "stdout",
     "output_type": "stream",
     "text": [
      "0:\ttest: 0.8153146\tbest: 0.8153146 (0)\ttotal: 94.7ms\tremaining: 3m 9s\n",
      "50:\ttest: 0.8626124\tbest: 0.8629943 (48)\ttotal: 3.96s\tremaining: 2m 31s\n",
      "100:\ttest: 0.8791403\tbest: 0.8791403 (100)\ttotal: 8.05s\tremaining: 2m 31s\n",
      "150:\ttest: 0.8887413\tbest: 0.8887413 (150)\ttotal: 12.1s\tremaining: 2m 28s\n",
      "200:\ttest: 0.8943264\tbest: 0.8943264 (200)\ttotal: 16.1s\tremaining: 2m 24s\n",
      "250:\ttest: 0.8992479\tbest: 0.8992479 (250)\ttotal: 20.2s\tremaining: 2m 20s\n",
      "300:\ttest: 0.9037893\tbest: 0.9037893 (300)\ttotal: 24.2s\tremaining: 2m 16s\n",
      "350:\ttest: 0.9073257\tbest: 0.9073257 (350)\ttotal: 28.3s\tremaining: 2m 12s\n",
      "400:\ttest: 0.9102685\tbest: 0.9102685 (400)\ttotal: 32.3s\tremaining: 2m 8s\n",
      "450:\ttest: 0.9129955\tbest: 0.9129955 (450)\ttotal: 36.2s\tremaining: 2m 4s\n",
      "500:\ttest: 0.9151104\tbest: 0.9151104 (500)\ttotal: 40.2s\tremaining: 2m\n",
      "550:\ttest: 0.9167103\tbest: 0.9167103 (550)\ttotal: 44.3s\tremaining: 1m 56s\n",
      "600:\ttest: 0.9186511\tbest: 0.9186511 (600)\ttotal: 48.3s\tremaining: 1m 52s\n",
      "650:\ttest: 0.9202644\tbest: 0.9202749 (649)\ttotal: 52.3s\tremaining: 1m 48s\n",
      "700:\ttest: 0.9216920\tbest: 0.9216920 (700)\ttotal: 56.3s\tremaining: 1m 44s\n",
      "750:\ttest: 0.9225851\tbest: 0.9225851 (750)\ttotal: 1m\tremaining: 1m 40s\n",
      "800:\ttest: 0.9231880\tbest: 0.9231980 (799)\ttotal: 1m 4s\tremaining: 1m 35s\n",
      "850:\ttest: 0.9241728\tbest: 0.9241728 (850)\ttotal: 1m 8s\tremaining: 1m 31s\n",
      "900:\ttest: 0.9251226\tbest: 0.9251264 (899)\ttotal: 1m 12s\tremaining: 1m 27s\n",
      "950:\ttest: 0.9260707\tbest: 0.9260707 (950)\ttotal: 1m 16s\tremaining: 1m 23s\n",
      "1000:\ttest: 0.9265170\tbest: 0.9265170 (1000)\ttotal: 1m 20s\tremaining: 1m 19s\n",
      "1050:\ttest: 0.9268054\tbest: 0.9268499 (1040)\ttotal: 1m 24s\tremaining: 1m 15s\n",
      "1100:\ttest: 0.9271948\tbest: 0.9271948 (1100)\ttotal: 1m 28s\tremaining: 1m 11s\n",
      "1150:\ttest: 0.9279965\tbest: 0.9279965 (1150)\ttotal: 1m 32s\tremaining: 1m 7s\n",
      "1200:\ttest: 0.9283314\tbest: 0.9283666 (1182)\ttotal: 1m 36s\tremaining: 1m 3s\n",
      "1250:\ttest: 0.9286449\tbest: 0.9286449 (1250)\ttotal: 1m 40s\tremaining: 1m\n",
      "1300:\ttest: 0.9289213\tbest: 0.9289909 (1298)\ttotal: 1m 44s\tremaining: 56.1s\n",
      "1350:\ttest: 0.9292206\tbest: 0.9292335 (1349)\ttotal: 1m 48s\tremaining: 52.1s\n",
      "1400:\ttest: 0.9293080\tbest: 0.9293407 (1362)\ttotal: 1m 52s\tremaining: 48.1s\n",
      "1450:\ttest: 0.9294923\tbest: 0.9295207 (1445)\ttotal: 1m 56s\tremaining: 44.1s\n",
      "1500:\ttest: 0.9298089\tbest: 0.9298089 (1500)\ttotal: 2m\tremaining: 40.1s\n",
      "1550:\ttest: 0.9299932\tbest: 0.9300490 (1543)\ttotal: 2m 4s\tremaining: 36.2s\n",
      "1600:\ttest: 0.9302201\tbest: 0.9302202 (1599)\ttotal: 2m 8s\tremaining: 32.1s\n",
      "1650:\ttest: 0.9302471\tbest: 0.9303288 (1625)\ttotal: 2m 12s\tremaining: 28.1s\n",
      "1700:\ttest: 0.9303349\tbest: 0.9303458 (1698)\ttotal: 2m 16s\tremaining: 24.1s\n",
      "1750:\ttest: 0.9304787\tbest: 0.9304945 (1748)\ttotal: 2m 21s\tremaining: 20.1s\n",
      "1800:\ttest: 0.9306654\tbest: 0.9306959 (1791)\ttotal: 2m 25s\tremaining: 16s\n",
      "1850:\ttest: 0.9305012\tbest: 0.9306959 (1791)\ttotal: 2m 29s\tremaining: 12s\n",
      "bestTest = 0.9306958914\n",
      "bestIteration = 1791\n",
      "Shrink model to first 1792 iterations.\n",
      "AUC: 0.9306958992528152\n",
      "7th runs of CatBoost:\n"
     ]
    },
    {
     "name": "stderr",
     "output_type": "stream",
     "text": [
      "Default metric period is 5 because AUC is/are not implemented for GPU\n"
     ]
    },
    {
     "name": "stdout",
     "output_type": "stream",
     "text": [
      "0:\ttest: 0.7616392\tbest: 0.7616392 (0)\ttotal: 99.1ms\tremaining: 3m 18s\n",
      "50:\ttest: 0.8592271\tbest: 0.8592271 (50)\ttotal: 4.02s\tremaining: 2m 33s\n",
      "100:\ttest: 0.8771040\tbest: 0.8771040 (100)\ttotal: 8.1s\tremaining: 2m 32s\n",
      "150:\ttest: 0.8852225\tbest: 0.8852225 (150)\ttotal: 12.2s\tremaining: 2m 29s\n",
      "200:\ttest: 0.8924841\tbest: 0.8924841 (200)\ttotal: 16.3s\tremaining: 2m 26s\n",
      "250:\ttest: 0.8988251\tbest: 0.8988251 (250)\ttotal: 20.5s\tremaining: 2m 23s\n",
      "300:\ttest: 0.9028841\tbest: 0.9028841 (300)\ttotal: 24.6s\tremaining: 2m 19s\n",
      "350:\ttest: 0.9064376\tbest: 0.9064376 (350)\ttotal: 28.8s\tremaining: 2m 15s\n",
      "400:\ttest: 0.9107304\tbest: 0.9107304 (400)\ttotal: 33s\tremaining: 2m 11s\n",
      "450:\ttest: 0.9133401\tbest: 0.9133401 (450)\ttotal: 37.1s\tremaining: 2m 7s\n",
      "500:\ttest: 0.9152130\tbest: 0.9152130 (500)\ttotal: 41.3s\tremaining: 2m 3s\n",
      "550:\ttest: 0.9172893\tbest: 0.9172893 (550)\ttotal: 45.4s\tremaining: 1m 59s\n",
      "600:\ttest: 0.9189066\tbest: 0.9189066 (600)\ttotal: 49.5s\tremaining: 1m 55s\n",
      "650:\ttest: 0.9200987\tbest: 0.9200987 (650)\ttotal: 53.6s\tremaining: 1m 51s\n",
      "700:\ttest: 0.9216753\tbest: 0.9216753 (700)\ttotal: 57.7s\tremaining: 1m 46s\n",
      "750:\ttest: 0.9228307\tbest: 0.9228307 (750)\ttotal: 1m 1s\tremaining: 1m 42s\n",
      "800:\ttest: 0.9236457\tbest: 0.9236631 (799)\ttotal: 1m 5s\tremaining: 1m 38s\n",
      "850:\ttest: 0.9245092\tbest: 0.9245092 (850)\ttotal: 1m 9s\tremaining: 1m 34s\n",
      "900:\ttest: 0.9251699\tbest: 0.9252000 (896)\ttotal: 1m 14s\tremaining: 1m 30s\n",
      "950:\ttest: 0.9259961\tbest: 0.9260039 (949)\ttotal: 1m 18s\tremaining: 1m 26s\n",
      "1000:\ttest: 0.9263227\tbest: 0.9263227 (1000)\ttotal: 1m 22s\tremaining: 1m 21s\n",
      "1050:\ttest: 0.9267726\tbest: 0.9267726 (1050)\ttotal: 1m 26s\tremaining: 1m 17s\n",
      "1100:\ttest: 0.9275085\tbest: 0.9275240 (1099)\ttotal: 1m 30s\tremaining: 1m 13s\n",
      "1150:\ttest: 0.9280457\tbest: 0.9280457 (1150)\ttotal: 1m 34s\tremaining: 1m 9s\n",
      "1200:\ttest: 0.9284270\tbest: 0.9284619 (1198)\ttotal: 1m 38s\tremaining: 1m 5s\n",
      "1250:\ttest: 0.9286568\tbest: 0.9286632 (1247)\ttotal: 1m 42s\tremaining: 1m 1s\n",
      "1300:\ttest: 0.9291472\tbest: 0.9291674 (1293)\ttotal: 1m 46s\tremaining: 57.1s\n",
      "1350:\ttest: 0.9293964\tbest: 0.9294214 (1346)\ttotal: 1m 50s\tremaining: 52.9s\n",
      "1400:\ttest: 0.9297565\tbest: 0.9297565 (1400)\ttotal: 1m 54s\tremaining: 48.8s\n",
      "1450:\ttest: 0.9297682\tbest: 0.9298636 (1408)\ttotal: 1m 58s\tremaining: 44.7s\n",
      "1500:\ttest: 0.9301259\tbest: 0.9301265 (1499)\ttotal: 2m 2s\tremaining: 40.7s\n",
      "1550:\ttest: 0.9302147\tbest: 0.9302510 (1515)\ttotal: 2m 6s\tremaining: 36.6s\n",
      "1600:\ttest: 0.9303917\tbest: 0.9303929 (1586)\ttotal: 2m 10s\tremaining: 32.5s\n",
      "1650:\ttest: 0.9304340\tbest: 0.9304453 (1631)\ttotal: 2m 14s\tremaining: 28.4s\n",
      "1700:\ttest: 0.9305239\tbest: 0.9305261 (1699)\ttotal: 2m 18s\tremaining: 24.3s\n",
      "1750:\ttest: 0.9306257\tbest: 0.9307288 (1735)\ttotal: 2m 22s\tremaining: 20.2s\n",
      "1800:\ttest: 0.9308091\tbest: 0.9308091 (1800)\ttotal: 2m 26s\tremaining: 16.2s\n",
      "1850:\ttest: 0.9307736\tbest: 0.9308572 (1810)\ttotal: 2m 30s\tremaining: 12.1s\n",
      "1900:\ttest: 0.9307435\tbest: 0.9308572 (1810)\ttotal: 2m 34s\tremaining: 8.04s\n",
      "bestTest = 0.9308572412\n",
      "bestIteration = 1810\n",
      "Shrink model to first 1811 iterations.\n",
      "AUC: 0.9308572136049144\n",
      "8th runs of CatBoost:\n"
     ]
    },
    {
     "name": "stderr",
     "output_type": "stream",
     "text": [
      "Default metric period is 5 because AUC is/are not implemented for GPU\n"
     ]
    },
    {
     "name": "stdout",
     "output_type": "stream",
     "text": [
      "0:\ttest: 0.7751230\tbest: 0.7751230 (0)\ttotal: 99.8ms\tremaining: 3m 19s\n",
      "50:\ttest: 0.8660301\tbest: 0.8666210 (49)\ttotal: 4.03s\tremaining: 2m 34s\n",
      "100:\ttest: 0.8790222\tbest: 0.8790222 (100)\ttotal: 8.07s\tremaining: 2m 31s\n",
      "150:\ttest: 0.8879657\tbest: 0.8879657 (150)\ttotal: 12.2s\tremaining: 2m 28s\n",
      "200:\ttest: 0.8932807\tbest: 0.8932807 (200)\ttotal: 16.2s\tremaining: 2m 24s\n",
      "250:\ttest: 0.8982209\tbest: 0.8982209 (250)\ttotal: 20.2s\tremaining: 2m 20s\n",
      "300:\ttest: 0.9026026\tbest: 0.9026026 (300)\ttotal: 24.3s\tremaining: 2m 17s\n",
      "350:\ttest: 0.9063501\tbest: 0.9063501 (350)\ttotal: 28.4s\tremaining: 2m 13s\n",
      "400:\ttest: 0.9096869\tbest: 0.9096869 (400)\ttotal: 32.5s\tremaining: 2m 9s\n",
      "450:\ttest: 0.9122769\tbest: 0.9122769 (450)\ttotal: 36.5s\tremaining: 2m 5s\n",
      "500:\ttest: 0.9148026\tbest: 0.9148026 (500)\ttotal: 40.6s\tremaining: 2m 1s\n",
      "550:\ttest: 0.9164958\tbest: 0.9164958 (550)\ttotal: 44.6s\tremaining: 1m 57s\n",
      "600:\ttest: 0.9179285\tbest: 0.9179285 (600)\ttotal: 48.6s\tremaining: 1m 53s\n",
      "650:\ttest: 0.9190692\tbest: 0.9190692 (650)\ttotal: 52.6s\tremaining: 1m 48s\n",
      "700:\ttest: 0.9205974\tbest: 0.9205974 (700)\ttotal: 56.6s\tremaining: 1m 44s\n",
      "750:\ttest: 0.9216259\tbest: 0.9216259 (750)\ttotal: 1m\tremaining: 1m 40s\n",
      "800:\ttest: 0.9228064\tbest: 0.9228211 (799)\ttotal: 1m 4s\tremaining: 1m 36s\n",
      "850:\ttest: 0.9237038\tbest: 0.9237143 (846)\ttotal: 1m 8s\tremaining: 1m 32s\n",
      "900:\ttest: 0.9246945\tbest: 0.9247000 (899)\ttotal: 1m 12s\tremaining: 1m 28s\n",
      "950:\ttest: 0.9252135\tbest: 0.9252256 (948)\ttotal: 1m 16s\tremaining: 1m 24s\n",
      "1000:\ttest: 0.9255638\tbest: 0.9255711 (998)\ttotal: 1m 20s\tremaining: 1m 20s\n",
      "1050:\ttest: 0.9261994\tbest: 0.9261994 (1050)\ttotal: 1m 24s\tremaining: 1m 16s\n",
      "1100:\ttest: 0.9267783\tbest: 0.9267818 (1098)\ttotal: 1m 28s\tremaining: 1m 12s\n",
      "1150:\ttest: 0.9272012\tbest: 0.9272121 (1148)\ttotal: 1m 32s\tremaining: 1m 8s\n",
      "1200:\ttest: 0.9275740\tbest: 0.9275995 (1195)\ttotal: 1m 36s\tremaining: 1m 4s\n",
      "1250:\ttest: 0.9280190\tbest: 0.9280190 (1250)\ttotal: 1m 40s\tremaining: 1m\n",
      "1300:\ttest: 0.9284401\tbest: 0.9284401 (1300)\ttotal: 1m 44s\tremaining: 56.2s\n",
      "1350:\ttest: 0.9286683\tbest: 0.9286814 (1346)\ttotal: 1m 48s\tremaining: 52.2s\n",
      "1400:\ttest: 0.9289864\tbest: 0.9290197 (1392)\ttotal: 1m 52s\tremaining: 48.2s\n",
      "1450:\ttest: 0.9292257\tbest: 0.9292784 (1438)\ttotal: 1m 56s\tremaining: 44.2s\n",
      "1500:\ttest: 0.9292574\tbest: 0.9292966 (1473)\ttotal: 2m\tremaining: 40.2s\n",
      "1550:\ttest: 0.9294093\tbest: 0.9294274 (1541)\ttotal: 2m 4s\tremaining: 36.1s\n",
      "1600:\ttest: 0.9295532\tbest: 0.9295899 (1596)\ttotal: 2m 8s\tremaining: 32.1s\n",
      "1650:\ttest: 0.9298293\tbest: 0.9298553 (1648)\ttotal: 2m 12s\tremaining: 28.1s\n",
      "1700:\ttest: 0.9297932\tbest: 0.9298553 (1648)\ttotal: 2m 16s\tremaining: 24s\n",
      "1750:\ttest: 0.9299719\tbest: 0.9300112 (1743)\ttotal: 2m 20s\tremaining: 20s\n",
      "1800:\ttest: 0.9299653\tbest: 0.9300391 (1766)\ttotal: 2m 24s\tremaining: 16s\n",
      "1850:\ttest: 0.9298661\tbest: 0.9300391 (1766)\ttotal: 2m 28s\tremaining: 12s\n",
      "bestTest = 0.9300391078\n",
      "bestIteration = 1766\n",
      "Shrink model to first 1767 iterations.\n",
      "AUC: 0.9300390574863966\n",
      "9th runs of CatBoost:\n"
     ]
    },
    {
     "name": "stderr",
     "output_type": "stream",
     "text": [
      "Default metric period is 5 because AUC is/are not implemented for GPU\n"
     ]
    },
    {
     "name": "stdout",
     "output_type": "stream",
     "text": [
      "0:\ttest: 0.8025591\tbest: 0.8025591 (0)\ttotal: 104ms\tremaining: 3m 26s\n",
      "50:\ttest: 0.8616587\tbest: 0.8616587 (50)\ttotal: 3.97s\tremaining: 2m 31s\n",
      "100:\ttest: 0.8785276\tbest: 0.8785276 (100)\ttotal: 8.09s\tremaining: 2m 32s\n",
      "150:\ttest: 0.8876154\tbest: 0.8876154 (150)\ttotal: 12.1s\tremaining: 2m 28s\n",
      "200:\ttest: 0.8936125\tbest: 0.8936125 (200)\ttotal: 16.2s\tremaining: 2m 24s\n",
      "250:\ttest: 0.8992022\tbest: 0.8992022 (250)\ttotal: 20.2s\tremaining: 2m 20s\n",
      "300:\ttest: 0.9030434\tbest: 0.9030434 (300)\ttotal: 24.3s\tremaining: 2m 17s\n",
      "350:\ttest: 0.9061503\tbest: 0.9061503 (350)\ttotal: 28.3s\tremaining: 2m 12s\n",
      "400:\ttest: 0.9093081\tbest: 0.9093081 (400)\ttotal: 32.4s\tremaining: 2m 9s\n",
      "450:\ttest: 0.9120399\tbest: 0.9120399 (450)\ttotal: 36.4s\tremaining: 2m 4s\n",
      "500:\ttest: 0.9152032\tbest: 0.9152032 (500)\ttotal: 40.5s\tremaining: 2m 1s\n",
      "550:\ttest: 0.9173208\tbest: 0.9173208 (550)\ttotal: 44.6s\tremaining: 1m 57s\n",
      "600:\ttest: 0.9192007\tbest: 0.9192007 (600)\ttotal: 48.6s\tremaining: 1m 53s\n",
      "650:\ttest: 0.9202887\tbest: 0.9203033 (645)\ttotal: 52.7s\tremaining: 1m 49s\n",
      "700:\ttest: 0.9212626\tbest: 0.9212943 (695)\ttotal: 56.8s\tremaining: 1m 45s\n",
      "750:\ttest: 0.9223829\tbest: 0.9223868 (748)\ttotal: 1m\tremaining: 1m 41s\n",
      "800:\ttest: 0.9233020\tbest: 0.9233258 (798)\ttotal: 1m 5s\tremaining: 1m 37s\n",
      "850:\ttest: 0.9241426\tbest: 0.9241426 (850)\ttotal: 1m 9s\tremaining: 1m 33s\n",
      "900:\ttest: 0.9250457\tbest: 0.9250457 (900)\ttotal: 1m 13s\tremaining: 1m 29s\n",
      "950:\ttest: 0.9257632\tbest: 0.9257632 (950)\ttotal: 1m 17s\tremaining: 1m 25s\n",
      "1000:\ttest: 0.9262744\tbest: 0.9262744 (1000)\ttotal: 1m 21s\tremaining: 1m 20s\n",
      "1050:\ttest: 0.9269614\tbest: 0.9269727 (1048)\ttotal: 1m 25s\tremaining: 1m 16s\n",
      "1100:\ttest: 0.9274221\tbest: 0.9274221 (1100)\ttotal: 1m 29s\tremaining: 1m 12s\n",
      "1150:\ttest: 0.9280630\tbest: 0.9280630 (1150)\ttotal: 1m 33s\tremaining: 1m 8s\n",
      "1200:\ttest: 0.9288009\tbest: 0.9288009 (1200)\ttotal: 1m 37s\tremaining: 1m 4s\n",
      "1250:\ttest: 0.9291860\tbest: 0.9291860 (1250)\ttotal: 1m 41s\tremaining: 1m\n",
      "1300:\ttest: 0.9293903\tbest: 0.9293903 (1300)\ttotal: 1m 45s\tremaining: 56.5s\n",
      "1350:\ttest: 0.9296099\tbest: 0.9296099 (1350)\ttotal: 1m 49s\tremaining: 52.4s\n",
      "1400:\ttest: 0.9298186\tbest: 0.9298269 (1399)\ttotal: 1m 53s\tremaining: 48.3s\n",
      "1450:\ttest: 0.9300885\tbest: 0.9300885 (1450)\ttotal: 1m 57s\tremaining: 44.3s\n",
      "1500:\ttest: 0.9301016\tbest: 0.9302013 (1486)\ttotal: 2m 1s\tremaining: 40.2s\n",
      "1550:\ttest: 0.9303486\tbest: 0.9303486 (1550)\ttotal: 2m 5s\tremaining: 36.2s\n",
      "1600:\ttest: 0.9302907\tbest: 0.9304159 (1581)\ttotal: 2m 9s\tremaining: 32.2s\n",
      "1650:\ttest: 0.9306236\tbest: 0.9306264 (1649)\ttotal: 2m 13s\tremaining: 28.1s\n",
      "1700:\ttest: 0.9305930\tbest: 0.9306264 (1649)\ttotal: 2m 17s\tremaining: 24.1s\n",
      "1750:\ttest: 0.9306826\tbest: 0.9307620 (1734)\ttotal: 2m 21s\tremaining: 20.1s\n",
      "1800:\ttest: 0.9309105\tbest: 0.9309773 (1793)\ttotal: 2m 25s\tremaining: 16s\n",
      "1850:\ttest: 0.9307633\tbest: 0.9309773 (1793)\ttotal: 2m 28s\tremaining: 12s\n",
      "bestTest = 0.9309773147\n",
      "bestIteration = 1793\n",
      "Shrink model to first 1794 iterations.\n",
      "AUC: 0.9309773794809256\n",
      "10th runs of CatBoost:\n"
     ]
    },
    {
     "name": "stderr",
     "output_type": "stream",
     "text": [
      "Default metric period is 5 because AUC is/are not implemented for GPU\n"
     ]
    },
    {
     "name": "stdout",
     "output_type": "stream",
     "text": [
      "0:\ttest: 0.7870573\tbest: 0.7870573 (0)\ttotal: 101ms\tremaining: 3m 21s\n",
      "50:\ttest: 0.8605309\tbest: 0.8605309 (50)\ttotal: 3.93s\tremaining: 2m 30s\n",
      "100:\ttest: 0.8774443\tbest: 0.8774443 (100)\ttotal: 8.01s\tremaining: 2m 30s\n",
      "150:\ttest: 0.8870377\tbest: 0.8870377 (150)\ttotal: 12.1s\tremaining: 2m 27s\n",
      "200:\ttest: 0.8931795\tbest: 0.8931795 (200)\ttotal: 16.1s\tremaining: 2m 24s\n",
      "250:\ttest: 0.8988180\tbest: 0.8988367 (248)\ttotal: 20.2s\tremaining: 2m 20s\n",
      "300:\ttest: 0.9025463\tbest: 0.9025634 (299)\ttotal: 24.2s\tremaining: 2m 16s\n",
      "350:\ttest: 0.9061711\tbest: 0.9061711 (350)\ttotal: 28.2s\tremaining: 2m 12s\n",
      "400:\ttest: 0.9097762\tbest: 0.9097762 (400)\ttotal: 32.3s\tremaining: 2m 8s\n",
      "450:\ttest: 0.9127378\tbest: 0.9127378 (450)\ttotal: 36.3s\tremaining: 2m 4s\n",
      "500:\ttest: 0.9155402\tbest: 0.9155402 (500)\ttotal: 40.3s\tremaining: 2m\n",
      "550:\ttest: 0.9172618\tbest: 0.9172618 (550)\ttotal: 44.4s\tremaining: 1m 56s\n",
      "600:\ttest: 0.9187142\tbest: 0.9187142 (600)\ttotal: 48.3s\tremaining: 1m 52s\n",
      "650:\ttest: 0.9203061\tbest: 0.9203074 (649)\ttotal: 52.4s\tremaining: 1m 48s\n",
      "700:\ttest: 0.9215105\tbest: 0.9215105 (700)\ttotal: 56.4s\tremaining: 1m 44s\n",
      "750:\ttest: 0.9227430\tbest: 0.9227454 (743)\ttotal: 1m\tremaining: 1m 40s\n",
      "800:\ttest: 0.9237773\tbest: 0.9237773 (800)\ttotal: 1m 4s\tremaining: 1m 36s\n",
      "850:\ttest: 0.9244760\tbest: 0.9244760 (850)\ttotal: 1m 8s\tremaining: 1m 32s\n",
      "900:\ttest: 0.9251143\tbest: 0.9251633 (894)\ttotal: 1m 12s\tremaining: 1m 28s\n",
      "950:\ttest: 0.9256381\tbest: 0.9256381 (950)\ttotal: 1m 16s\tremaining: 1m 24s\n",
      "1000:\ttest: 0.9263165\tbest: 0.9263549 (993)\ttotal: 1m 20s\tremaining: 1m 20s\n",
      "1050:\ttest: 0.9266797\tbest: 0.9266992 (1036)\ttotal: 1m 24s\tremaining: 1m 16s\n",
      "1100:\ttest: 0.9272701\tbest: 0.9273323 (1095)\ttotal: 1m 28s\tremaining: 1m 12s\n",
      "1150:\ttest: 0.9277289\tbest: 0.9277289 (1150)\ttotal: 1m 32s\tremaining: 1m 8s\n",
      "1200:\ttest: 0.9278879\tbest: 0.9279544 (1184)\ttotal: 1m 36s\tremaining: 1m 4s\n",
      "1250:\ttest: 0.9281448\tbest: 0.9281491 (1249)\ttotal: 1m 40s\tremaining: 1m\n",
      "1300:\ttest: 0.9283991\tbest: 0.9283991 (1300)\ttotal: 1m 44s\tremaining: 56.3s\n",
      "1350:\ttest: 0.9287370\tbest: 0.9287634 (1348)\ttotal: 1m 48s\tremaining: 52.3s\n",
      "1400:\ttest: 0.9291276\tbest: 0.9291276 (1400)\ttotal: 1m 52s\tremaining: 48.3s\n",
      "1450:\ttest: 0.9293451\tbest: 0.9293451 (1450)\ttotal: 1m 56s\tremaining: 44.2s\n",
      "1500:\ttest: 0.9296943\tbest: 0.9296943 (1500)\ttotal: 2m\tremaining: 40.2s\n",
      "1550:\ttest: 0.9299423\tbest: 0.9299423 (1550)\ttotal: 2m 4s\tremaining: 36.1s\n",
      "1600:\ttest: 0.9300855\tbest: 0.9300855 (1600)\ttotal: 2m 8s\tremaining: 32.1s\n",
      "1650:\ttest: 0.9301984\tbest: 0.9301984 (1650)\ttotal: 2m 12s\tremaining: 28.1s\n",
      "1700:\ttest: 0.9303508\tbest: 0.9303508 (1700)\ttotal: 2m 16s\tremaining: 24s\n",
      "1750:\ttest: 0.9303171\tbest: 0.9304141 (1705)\ttotal: 2m 20s\tremaining: 20s\n",
      "1800:\ttest: 0.9303665\tbest: 0.9304141 (1705)\ttotal: 2m 24s\tremaining: 16s\n",
      "1850:\ttest: 0.9306549\tbest: 0.9306549 (1850)\ttotal: 2m 28s\tremaining: 12s\n",
      "1900:\ttest: 0.9307005\tbest: 0.9307481 (1890)\ttotal: 2m 32s\tremaining: 7.95s\n",
      "1950:\ttest: 0.9306328\tbest: 0.9307481 (1890)\ttotal: 2m 36s\tremaining: 3.93s\n",
      "1999:\ttest: 0.9308347\tbest: 0.9308347 (1999)\ttotal: 2m 40s\tremaining: 0us\n",
      "bestTest = 0.9308347106\n",
      "bestIteration = 1999\n",
      "AUC: 0.9308346639318723\n",
      "AUC mean ± dev of 10 runs: 0.930492345258165 ± 0.0005443099897931206\n"
     ]
    }
   ],
   "source": [
    "AUC = []\n",
    "\n",
    "for i in range(10):\n",
    "    clf = cat.CatBoostClassifier( \n",
    "            n_estimators=2000,\n",
    "            max_depth=12, \n",
    "            learning_rate=0.02,  \n",
    "            eval_metric='AUC',\n",
    "            random_seed = i,\n",
    "            task_type='GPU')\n",
    "            \n",
    "    print('%sth runs of CatBoost:'% (i+1))       \n",
    "    history = clf.fit(X_train, y_train, \n",
    "            eval_set=[(X_test,y_test)],\n",
    "            verbose=50, early_stopping_rounds=100)\n",
    "    y_probs = clf.predict_proba(X_test)[:,1]\n",
    "    y_preds = clf.predict(X_test)\n",
    "    auc = roc_auc_score(y_test,y_probs)\n",
    "\n",
    "    AUC.append(auc)\n",
    "    print ('AUC:', auc)\n",
    "\n",
    "print('AUC mean ± dev of 10 runs:',np.mean(AUC),'±', np.std(AUC))\n",
    "# print('F1 score mean ± dev of 10 runs:',np.mean(F1_score),'±', np.std(F1_score))"
   ]
  },
  {
   "cell_type": "code",
   "execution_count": null,
   "metadata": {},
   "outputs": [],
   "source": []
  },
  {
   "cell_type": "code",
   "execution_count": 31,
   "metadata": {},
   "outputs": [
    {
     "name": "stdout",
     "output_type": "stream",
     "text": [
      "   User  Card  Timestamp    Amount  Use Chip  Merchant Name  Merchant City  \\\n",
      "0     0     0   0.183639  4.898511         2          69374           6275   \n",
      "1     0     0   0.550250  3.650139         2          46284           7828   \n",
      "2     0     0   0.721090  4.790321         2          46284           7828   \n",
      "3     0     0   0.120866  4.859425         2          68751           7828   \n",
      "4     0     0   0.258540  4.651195         2          81833           6275   \n",
      "\n",
      "   Merchant State    Zip  MCC  Errors?  Is Fraud?  \n",
      "0              28  24757   53       22          0  \n",
      "1              28  24759   56       22          0  \n",
      "2              28  24759   56       22          0  \n",
      "3              28  24759   61       22          0  \n",
      "4              28  24757   74       22          0  \n"
     ]
    }
   ],
   "source": [
    "path = './data/card_transaction.v1.encoded.500000.csv'\n",
    "df = pd.read_csv(path, index_col=0)\n",
    "print(df.head())\n",
    "label = 'Is Fraud?'\n",
    "X = df.iloc[:,:-1].to_numpy()\n",
    "y = df[label].to_numpy()\n",
    "\n",
    "\n",
    "X_train, X_test = X[:3*X.shape[0]//4], X[3*X.shape[0]//4:]\n",
    "y_train, y_test = y[:3*X.shape[0]//4], y[3*X.shape[0]//4:]\n"
   ]
  },
  {
   "cell_type": "code",
   "execution_count": 46,
   "metadata": {},
   "outputs": [
    {
     "name": "stdout",
     "output_type": "stream",
     "text": [
      "\n",
      "1th runs of XGBoost:\n",
      "[0]\tvalidation_0-auc:0.50000\n",
      "[50]\tvalidation_0-auc:0.82659\n",
      "[100]\tvalidation_0-auc:0.87219\n",
      "[150]\tvalidation_0-auc:0.87956\n",
      "[200]\tvalidation_0-auc:0.89625\n",
      "[250]\tvalidation_0-auc:0.89899\n",
      "[300]\tvalidation_0-auc:0.89715\n",
      "[317]\tvalidation_0-auc:0.89618\n",
      "AUC: 0.9008980226814775\n",
      "\n",
      "2th runs of XGBoost:\n",
      "[0]\tvalidation_0-auc:0.50000\n",
      "[50]\tvalidation_0-auc:0.84307\n",
      "[100]\tvalidation_0-auc:0.86464\n",
      "[150]\tvalidation_0-auc:0.88479\n",
      "[200]\tvalidation_0-auc:0.90145\n",
      "[250]\tvalidation_0-auc:0.90553\n",
      "[300]\tvalidation_0-auc:0.91160\n",
      "[350]\tvalidation_0-auc:0.90922\n",
      "[400]\tvalidation_0-auc:0.90648\n",
      "[406]\tvalidation_0-auc:0.90677\n",
      "AUC: 0.9119700962492215\n",
      "\n",
      "3th runs of XGBoost:\n",
      "[0]\tvalidation_0-auc:0.50000\n",
      "[50]\tvalidation_0-auc:0.84531\n",
      "[100]\tvalidation_0-auc:0.87733\n",
      "[150]\tvalidation_0-auc:0.88712\n",
      "[200]\tvalidation_0-auc:0.88935\n",
      "[250]\tvalidation_0-auc:0.89795\n",
      "[300]\tvalidation_0-auc:0.89643\n",
      "[350]\tvalidation_0-auc:0.89435\n",
      "[369]\tvalidation_0-auc:0.89405\n",
      "AUC: 0.9003183025213908\n",
      "\n",
      "4th runs of XGBoost:\n",
      "[0]\tvalidation_0-auc:0.50000\n",
      "[50]\tvalidation_0-auc:0.81915\n",
      "[100]\tvalidation_0-auc:0.86345\n",
      "[150]\tvalidation_0-auc:0.87870\n",
      "[200]\tvalidation_0-auc:0.89109\n",
      "[250]\tvalidation_0-auc:0.89771\n",
      "[300]\tvalidation_0-auc:0.89994\n",
      "[350]\tvalidation_0-auc:0.90102\n",
      "[400]\tvalidation_0-auc:0.89773\n",
      "[450]\tvalidation_0-auc:0.89858\n",
      "[459]\tvalidation_0-auc:0.89731\n",
      "AUC: 0.9015085028151697\n",
      "\n",
      "5th runs of XGBoost:\n",
      "[0]\tvalidation_0-auc:0.50000\n",
      "[50]\tvalidation_0-auc:0.83907\n",
      "[100]\tvalidation_0-auc:0.89010\n",
      "[150]\tvalidation_0-auc:0.88546\n",
      "[200]\tvalidation_0-auc:0.89702\n",
      "[250]\tvalidation_0-auc:0.90307\n",
      "[300]\tvalidation_0-auc:0.90532\n",
      "[350]\tvalidation_0-auc:0.90627\n",
      "[400]\tvalidation_0-auc:0.90570\n",
      "[450]\tvalidation_0-auc:0.90264\n",
      "[467]\tvalidation_0-auc:0.90288\n",
      "AUC: 0.9076844313239345\n",
      "\n",
      "6th runs of XGBoost:\n",
      "[0]\tvalidation_0-auc:0.50000\n",
      "[50]\tvalidation_0-auc:0.80808\n",
      "[100]\tvalidation_0-auc:0.86200\n",
      "[150]\tvalidation_0-auc:0.88766\n",
      "[200]\tvalidation_0-auc:0.90155\n",
      "[250]\tvalidation_0-auc:0.90533\n",
      "[300]\tvalidation_0-auc:0.90482\n",
      "[350]\tvalidation_0-auc:0.90692\n",
      "[390]\tvalidation_0-auc:0.90573\n",
      "AUC: 0.9073418579192605\n",
      "\n",
      "7th runs of XGBoost:\n",
      "[0]\tvalidation_0-auc:0.50000\n",
      "[50]\tvalidation_0-auc:0.81531\n",
      "[100]\tvalidation_0-auc:0.85836\n",
      "[150]\tvalidation_0-auc:0.88560\n",
      "[200]\tvalidation_0-auc:0.89651\n",
      "[250]\tvalidation_0-auc:0.90210\n",
      "[300]\tvalidation_0-auc:0.90019\n",
      "[350]\tvalidation_0-auc:0.89916\n",
      "[359]\tvalidation_0-auc:0.89914\n",
      "AUC: 0.9030031425737418\n",
      "\n",
      "8th runs of XGBoost:\n",
      "[0]\tvalidation_0-auc:0.50000\n",
      "[50]\tvalidation_0-auc:0.83239\n",
      "[100]\tvalidation_0-auc:0.87134\n",
      "[150]\tvalidation_0-auc:0.88345\n",
      "[200]\tvalidation_0-auc:0.89401\n",
      "[250]\tvalidation_0-auc:0.90159\n",
      "[300]\tvalidation_0-auc:0.90548\n",
      "[350]\tvalidation_0-auc:0.90603\n",
      "[378]\tvalidation_0-auc:0.90773\n",
      "AUC: 0.9095416595384992\n",
      "\n",
      "9th runs of XGBoost:\n",
      "[0]\tvalidation_0-auc:0.50000\n",
      "[50]\tvalidation_0-auc:0.83194\n",
      "[100]\tvalidation_0-auc:0.86190\n",
      "[150]\tvalidation_0-auc:0.87239\n",
      "[200]\tvalidation_0-auc:0.87987\n",
      "[250]\tvalidation_0-auc:0.88357\n",
      "[300]\tvalidation_0-auc:0.88846\n",
      "[350]\tvalidation_0-auc:0.88816\n",
      "[400]\tvalidation_0-auc:0.88962\n",
      "[450]\tvalidation_0-auc:0.88700\n",
      "[495]\tvalidation_0-auc:0.88778\n",
      "AUC: 0.8898015518195999\n",
      "\n",
      "10th runs of XGBoost:\n",
      "[0]\tvalidation_0-auc:0.50000\n",
      "[50]\tvalidation_0-auc:0.81257\n",
      "[100]\tvalidation_0-auc:0.86427\n",
      "[150]\tvalidation_0-auc:0.86015\n",
      "[182]\tvalidation_0-auc:0.87166\n",
      "AUC: 0.8829069776261222\n",
      "AUC mean ± dev of 10 runs: 0.9014974545068417 ± 0.008562932324256022\n"
     ]
    }
   ],
   "source": [
    "AUC = []\n",
    "for i in range(10):\n",
    "    clf = xgb.XGBClassifier( \n",
    "            n_estimators=2000,\n",
    "            max_depth=8, \n",
    "            learning_rate=0.05,  \n",
    "            subsample=0.8,\n",
    "            colsample_bytree=0.2, \n",
    "            missing=-1, \n",
    "            eval_metric='auc',\n",
    "            seed = i,\n",
    "            # USE GPU\n",
    "            tree_method='gpu_hist',\n",
    "            early_stopping_rounds=100 )\n",
    "    print()\n",
    "    print('%sth runs of XGBoost:'% (i+1))       \n",
    "    history = clf.fit(X_train, y_train, \n",
    "            eval_set=[(X_test,y_test)],\n",
    "            verbose=50, )\n",
    "\n",
    "    y_probs = clf.predict_proba(X_test)[:,1]\n",
    "    \n",
    "    auc = roc_auc_score(y_test,y_probs)\n",
    "    AUC.append(auc)\n",
    "    print ('AUC:', auc)\n",
    "\n",
    "print('AUC mean ± dev of 10 runs:',np.mean(AUC),'±', np.std(AUC))"
   ]
  },
  {
   "cell_type": "code",
   "execution_count": 47,
   "metadata": {},
   "outputs": [
    {
     "name": "stdout",
     "output_type": "stream",
     "text": [
      "1th runs of CatBoost:\n"
     ]
    },
    {
     "name": "stderr",
     "output_type": "stream",
     "text": [
      "Default metric period is 5 because AUC is/are not implemented for GPU\n"
     ]
    },
    {
     "name": "stdout",
     "output_type": "stream",
     "text": [
      "0:\ttest: 0.8677865\tbest: 0.8677865 (0)\ttotal: 17.3ms\tremaining: 34.6s\n",
      "50:\ttest: 0.8806809\tbest: 0.9100715 (4)\ttotal: 2.19s\tremaining: 1m 23s\n",
      "100:\ttest: 0.8880800\tbest: 0.9100715 (4)\ttotal: 4.36s\tremaining: 1m 22s\n",
      "bestTest = 0.9100714624\n",
      "bestIteration = 4\n",
      "Shrink model to first 5 iterations.\n",
      "AUC: 0.9100714474126648\n",
      "2th runs of CatBoost:\n"
     ]
    },
    {
     "name": "stderr",
     "output_type": "stream",
     "text": [
      "Default metric period is 5 because AUC is/are not implemented for GPU\n"
     ]
    },
    {
     "name": "stdout",
     "output_type": "stream",
     "text": [
      "0:\ttest: 0.8555900\tbest: 0.8555900 (0)\ttotal: 22.8ms\tremaining: 45.6s\n",
      "50:\ttest: 0.8918232\tbest: 0.8968668 (1)\ttotal: 2.22s\tremaining: 1m 24s\n",
      "100:\ttest: 0.8959931\tbest: 0.8981875 (93)\ttotal: 4.41s\tremaining: 1m 22s\n",
      "150:\ttest: 0.8947061\tbest: 0.8981875 (93)\ttotal: 6.59s\tremaining: 1m 20s\n",
      "bestTest = 0.8981874883\n",
      "bestIteration = 93\n",
      "Shrink model to first 94 iterations.\n",
      "AUC: 0.8981874790895384\n",
      "3th runs of CatBoost:\n"
     ]
    },
    {
     "name": "stderr",
     "output_type": "stream",
     "text": [
      "Default metric period is 5 because AUC is/are not implemented for GPU\n"
     ]
    },
    {
     "name": "stdout",
     "output_type": "stream",
     "text": [
      "0:\ttest: 0.8614103\tbest: 0.8614103 (0)\ttotal: 18ms\tremaining: 35.9s\n",
      "50:\ttest: 0.8675710\tbest: 0.8893273 (1)\ttotal: 2.19s\tremaining: 1m 23s\n",
      "100:\ttest: 0.8728213\tbest: 0.8893273 (1)\ttotal: 4.38s\tremaining: 1m 22s\n",
      "bestTest = 0.8893272579\n",
      "bestIteration = 1\n",
      "Shrink model to first 2 iterations.\n",
      "AUC: 0.8893272583087746\n",
      "4th runs of CatBoost:\n"
     ]
    },
    {
     "name": "stderr",
     "output_type": "stream",
     "text": [
      "Default metric period is 5 because AUC is/are not implemented for GPU\n"
     ]
    },
    {
     "name": "stdout",
     "output_type": "stream",
     "text": [
      "0:\ttest: 0.8959322\tbest: 0.8959322 (0)\ttotal: 30.4ms\tremaining: 1m\n",
      "50:\ttest: 0.8913170\tbest: 0.9007694 (3)\ttotal: 2.24s\tremaining: 1m 25s\n",
      "100:\ttest: 0.8990600\tbest: 0.9007694 (3)\ttotal: 4.43s\tremaining: 1m 23s\n",
      "bestTest = 0.9007694423\n",
      "bestIteration = 3\n",
      "Shrink model to first 4 iterations.\n",
      "AUC: 0.9007694628465869\n",
      "5th runs of CatBoost:\n"
     ]
    },
    {
     "name": "stderr",
     "output_type": "stream",
     "text": [
      "Default metric period is 5 because AUC is/are not implemented for GPU\n"
     ]
    },
    {
     "name": "stdout",
     "output_type": "stream",
     "text": [
      "0:\ttest: 0.8479691\tbest: 0.8479691 (0)\ttotal: 12.7ms\tremaining: 25.4s\n",
      "50:\ttest: 0.8931335\tbest: 0.8938166 (47)\ttotal: 2.17s\tremaining: 1m 23s\n",
      "100:\ttest: 0.8947873\tbest: 0.8949050 (85)\ttotal: 4.35s\tremaining: 1m 21s\n",
      "150:\ttest: 0.8984306\tbest: 0.8992859 (147)\ttotal: 6.54s\tremaining: 1m 20s\n",
      "200:\ttest: 0.8944778\tbest: 0.8992859 (147)\ttotal: 8.75s\tremaining: 1m 18s\n",
      "bestTest = 0.8992859125\n",
      "bestIteration = 147\n",
      "Shrink model to first 148 iterations.\n",
      "AUC: 0.8992858208320026\n",
      "6th runs of CatBoost:\n"
     ]
    },
    {
     "name": "stderr",
     "output_type": "stream",
     "text": [
      "Default metric period is 5 because AUC is/are not implemented for GPU\n"
     ]
    },
    {
     "name": "stdout",
     "output_type": "stream",
     "text": [
      "0:\ttest: 0.5533731\tbest: 0.5533731 (0)\ttotal: 12.2ms\tremaining: 24.3s\n",
      "50:\ttest: 0.8348782\tbest: 0.8872456 (1)\ttotal: 2.26s\tremaining: 1m 26s\n",
      "100:\ttest: 0.8537151\tbest: 0.8872456 (1)\ttotal: 4.46s\tremaining: 1m 23s\n",
      "bestTest = 0.8872455657\n",
      "bestIteration = 1\n",
      "Shrink model to first 2 iterations.\n",
      "AUC: 0.8872455665607906\n",
      "7th runs of CatBoost:\n"
     ]
    },
    {
     "name": "stderr",
     "output_type": "stream",
     "text": [
      "Default metric period is 5 because AUC is/are not implemented for GPU\n"
     ]
    },
    {
     "name": "stdout",
     "output_type": "stream",
     "text": [
      "0:\ttest: 0.8229465\tbest: 0.8229465 (0)\ttotal: 14.9ms\tremaining: 29.8s\n",
      "50:\ttest: 0.8885297\tbest: 0.8896397 (47)\ttotal: 2.23s\tremaining: 1m 25s\n",
      "100:\ttest: 0.9000332\tbest: 0.9000332 (100)\ttotal: 4.43s\tremaining: 1m 23s\n",
      "150:\ttest: 0.9022410\tbest: 0.9026771 (122)\ttotal: 6.63s\tremaining: 1m 21s\n",
      "200:\ttest: 0.8979368\tbest: 0.9028995 (164)\ttotal: 8.85s\tremaining: 1m 19s\n",
      "250:\ttest: 0.8981318\tbest: 0.9028995 (164)\ttotal: 11s\tremaining: 1m 16s\n",
      "bestTest = 0.9028994739\n",
      "bestIteration = 164\n",
      "Shrink model to first 165 iterations.\n",
      "AUC: 0.9028995699502868\n",
      "8th runs of CatBoost:\n"
     ]
    },
    {
     "name": "stderr",
     "output_type": "stream",
     "text": [
      "Default metric period is 5 because AUC is/are not implemented for GPU\n"
     ]
    },
    {
     "name": "stdout",
     "output_type": "stream",
     "text": [
      "0:\ttest: 0.8600419\tbest: 0.8600419 (0)\ttotal: 57.3ms\tremaining: 1m 54s\n",
      "50:\ttest: 0.8922434\tbest: 0.8930332 (47)\ttotal: 2.28s\tremaining: 1m 27s\n",
      "100:\ttest: 0.9069273\tbest: 0.9069273 (100)\ttotal: 4.49s\tremaining: 1m 24s\n",
      "150:\ttest: 0.9051340\tbest: 0.9082653 (117)\ttotal: 6.69s\tremaining: 1m 21s\n",
      "200:\ttest: 0.9036362\tbest: 0.9082653 (117)\ttotal: 8.91s\tremaining: 1m 19s\n",
      "bestTest = 0.9082652628\n",
      "bestIteration = 117\n",
      "Shrink model to first 118 iterations.\n",
      "AUC: 0.9082651627708246\n",
      "9th runs of CatBoost:\n"
     ]
    },
    {
     "name": "stderr",
     "output_type": "stream",
     "text": [
      "Default metric period is 5 because AUC is/are not implemented for GPU\n"
     ]
    },
    {
     "name": "stdout",
     "output_type": "stream",
     "text": [
      "0:\ttest: 0.8641747\tbest: 0.8641747 (0)\ttotal: 85.9ms\tremaining: 2m 51s\n",
      "50:\ttest: 0.8787979\tbest: 0.8787979 (50)\ttotal: 2.36s\tremaining: 1m 30s\n",
      "100:\ttest: 0.8898774\tbest: 0.8898774 (100)\ttotal: 4.56s\tremaining: 1m 25s\n",
      "150:\ttest: 0.8935567\tbest: 0.8940848 (143)\ttotal: 6.76s\tremaining: 1m 22s\n",
      "200:\ttest: 0.8949225\tbest: 0.8954915 (178)\ttotal: 8.94s\tremaining: 1m 20s\n",
      "250:\ttest: 0.8991392\tbest: 0.9002114 (243)\ttotal: 11.2s\tremaining: 1m 17s\n",
      "300:\ttest: 0.9024370\tbest: 0.9032734 (280)\ttotal: 13.3s\tremaining: 1m 15s\n",
      "350:\ttest: 0.9023426\tbest: 0.9034498 (336)\ttotal: 15.6s\tremaining: 1m 13s\n",
      "400:\ttest: 0.9013807\tbest: 0.9034498 (336)\ttotal: 17.8s\tremaining: 1m 10s\n",
      "bestTest = 0.9034498036\n",
      "bestIteration = 336\n",
      "Shrink model to first 337 iterations.\n",
      "AUC: 0.9034497942452725\n",
      "10th runs of CatBoost:\n"
     ]
    },
    {
     "name": "stderr",
     "output_type": "stream",
     "text": [
      "Default metric period is 5 because AUC is/are not implemented for GPU\n"
     ]
    },
    {
     "name": "stdout",
     "output_type": "stream",
     "text": [
      "0:\ttest: 0.8257461\tbest: 0.8257461 (0)\ttotal: 50.3ms\tremaining: 1m 40s\n",
      "50:\ttest: 0.8981108\tbest: 0.8981108 (50)\ttotal: 2.35s\tremaining: 1m 29s\n",
      "100:\ttest: 0.9120864\tbest: 0.9126967 (98)\ttotal: 4.62s\tremaining: 1m 26s\n",
      "150:\ttest: 0.9146997\tbest: 0.9165796 (145)\ttotal: 6.84s\tremaining: 1m 23s\n",
      "200:\ttest: 0.9091587\tbest: 0.9165796 (145)\ttotal: 9.07s\tremaining: 1m 21s\n",
      "bestTest = 0.9165795743\n",
      "bestIteration = 145\n",
      "Shrink model to first 146 iterations.\n",
      "AUC: 0.9165795414994181\n",
      "AUC mean ± dev of 10 runs: 0.901608110351616 ± 0.008485557770216319\n"
     ]
    }
   ],
   "source": [
    "AUC = []\n",
    "\n",
    "for i in range(10):\n",
    "    clf = cat.CatBoostClassifier( \n",
    "            n_estimators=2000,\n",
    "            max_depth=12, \n",
    "            learning_rate=0.02,  \n",
    "            eval_metric='AUC',\n",
    "            random_seed = i,\n",
    "            task_type='GPU')\n",
    "            \n",
    "    print('%sth runs of CatBoost:'% (i+1))       \n",
    "    history = clf.fit(X_train, y_train, \n",
    "            eval_set=[(X_test,y_test)],\n",
    "            verbose=50, early_stopping_rounds=100)\n",
    "    y_probs = clf.predict_proba(X_test)[:,1]\n",
    "    y_preds = clf.predict(X_test)\n",
    "    auc = roc_auc_score(y_test,y_probs)\n",
    "\n",
    "    AUC.append(auc)\n",
    "    print ('AUC:', auc)\n",
    "\n",
    "print('AUC mean ± dev of 10 runs:',np.mean(AUC),'±', np.std(AUC))"
   ]
  }
 ],
 "metadata": {
  "kernelspec": {
   "display_name": "Python 3.8.13 64-bit ('tabformer': conda)",
   "language": "python",
   "name": "python3"
  },
  "language_info": {
   "codemirror_mode": {
    "name": "ipython",
    "version": 3
   },
   "file_extension": ".py",
   "mimetype": "text/x-python",
   "name": "python",
   "nbconvert_exporter": "python",
   "pygments_lexer": "ipython3",
   "version": "3.8.13"
  },
  "orig_nbformat": 4,
  "vscode": {
   "interpreter": {
    "hash": "653c686c9b9fb0130120debf815852d7fc10db83419abc0a6e4698767e69a808"
   }
  }
 },
 "nbformat": 4,
 "nbformat_minor": 2
}
